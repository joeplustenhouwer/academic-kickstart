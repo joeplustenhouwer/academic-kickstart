{
  "nbformat": 4,
  "nbformat_minor": 0,
  "metadata": {
    "colab": {
      "provenance": [],
      "include_colab_link": true
    },
    "kernelspec": {
      "name": "python3",
      "display_name": "Python 3"
    },
    "language_info": {
      "name": "python"
    }
  },
  "cells": [
    {
      "cell_type": "markdown",
      "metadata": {
        "id": "view-in-github",
        "colab_type": "text"
      },
      "source": [
        "<a href=\"https://colab.research.google.com/github/joeplustenhouwer/academic-kickstart/blob/master/workshop_week_8_exerc.ipynb\" target=\"_parent\"><img src=\"https://colab.research.google.com/assets/colab-badge.svg\" alt=\"Open In Colab\"/></a>"
      ]
    },
    {
      "cell_type": "code",
      "execution_count": null,
      "metadata": {
        "id": "gL_ZuStTQu3h"
      },
      "outputs": [],
      "source": [
        "\n",
        "\n",
        "import matplotlib.pyplot as plt\n",
        "import numpy as np\n"
      ]
    },
    {
      "cell_type": "code",
      "source": [
        "kappa=0.3\n",
        "beta=0.99\n",
        "std_u=0.01\n",
        "rho_u=0\n"
      ],
      "metadata": {
        "id": "XGqznAOtRi9Z"
      },
      "execution_count": null,
      "outputs": []
    },
    {
      "cell_type": "code",
      "source": [
        "  #Consider the simple model with a cost-push shock from the lecture\n",
        "\n",
        "  M=np.array([[1,0,0],\n",
        "              [-kappa,1,0],\n",
        "              [0,0,1]])\n",
        "\n",
        "  N=#!!! create the matrix N based on the lecture slides\n",
        "  P=#!!! reate the matrix P based on the lecture slides\n",
        "\n",
        "\n",
        "F=np.ones((3,3)) #we can initilaize the matrix F with any values\n",
        "Fnew=np.dot(np.linalg.inv(?-np.dot(?,?)),?) #!!!!! Fill in the question marks in order to implement the linear time iteration formula\n",
        "\n",
        "while np.max(np.abs(F-Fnew))>0.000001: #here we check whetehr there are any differences left between the elements of the the updated Fnew and the old F. If so, we continue iterating\n",
        "    F=Fnew #set F equalk to the new F that we just calcualted, so that we can iteratre once more\n",
        "    Fnew=np.dot(np.linalg.inv(?-np.dot(?,?)),?) #!!!!! Fill in the question marks in order to implement the linear time iteration formula\n",
        "\n",
        "\n",
        "Q=#!!! calculate Q based on the appropriate formula from the lecture slides\n",
        "\n",
        "print('F matrix:')\n",
        "print(F)\n",
        "print('Q matrix (that also includes columns that relate to shock that do not appear in the model):')\n",
        "print( Q)\n",
        "print('Q column that relates to the cost push shock innovation:', Q[:,2])\n",
        "\n",
        "\n",
        "\n",
        "\n",
        "\n",
        "\n"
      ],
      "metadata": {
        "id": "AugMYioNRwnu"
      },
      "execution_count": null,
      "outputs": []
    },
    {
      "cell_type": "code",
      "source": [
        "T=1000 #simualte T periods\n",
        "Z=np.zeros((T,3))\n",
        "Y=np.zeros(T)\n",
        "Pi=np.zeros(T)\n",
        "u=np.zeros(T)\n",
        "v=np.zeros((T,3))\n",
        "\n"
      ],
      "metadata": {
        "id": "g-jNdF4ERqhr"
      },
      "execution_count": null,
      "outputs": []
    },
    {
      "cell_type": "code",
      "source": [
        "for t in range(1,N):\n",
        "\n",
        "  u[t]=rho_u*u[t-1]+std_u*np.random.randn()\n",
        "  v[t,:]=np.array([0,0,u[t]])\n",
        "  Z[t,:]=#!!!! use F, Q, Z[t-1,:], and v[t], to calcualte Z according to the formulae from the lecture slides\n",
        "\n",
        "  Y[t]=Z[t,0]\n",
        "  Pi[t]=Z[t,1]\n",
        "  u[t]=Z[t,2]"
      ],
      "metadata": {
        "id": "8Bnt1n-RmEK1"
      },
      "execution_count": null,
      "outputs": []
    },
    {
      "cell_type": "code",
      "source": [
        "plt.figure()\n",
        "plt.subplot(2, 2, 1)\n",
        "plt.plot(Y,linewidth=2)\n",
        "plt.title('Output')\n",
        "plt.ylabel('Y_t')\n",
        "plt.xlabel('t')\n",
        "\n",
        "\n",
        "\n",
        "plt.subplot(2, 2, 2)\n",
        "plt.plot(Pi,linewidth=2)\n",
        "plt.title('Inflation')\n",
        "plt.ylabel('Pi_t')\n",
        "plt.xlabel('t')\n",
        "\n",
        "\n",
        "plt.subplot(2, 2, 3)\n",
        "plt.plot(u,linewidth=2)\n",
        "plt.title('Cost-push shock')\n",
        "plt.ylabel('u_t')\n",
        "plt.xlabel('t')\n",
        "\n",
        "plt.tight_layout() #\n",
        "\n",
        "\n",
        "\n"
      ],
      "metadata": {
        "id": "i3q0BtG1R05K"
      },
      "execution_count": null,
      "outputs": []
    },
    {
      "cell_type": "code",
      "source": [],
      "metadata": {
        "id": "18tHDIqhOevw"
      },
      "execution_count": null,
      "outputs": []
    }
  ]
}